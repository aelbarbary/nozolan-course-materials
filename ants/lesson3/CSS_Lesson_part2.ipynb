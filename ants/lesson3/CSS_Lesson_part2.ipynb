{
 "cells": [
  {
   "cell_type": "markdown",
   "id": "b59b668c",
   "metadata": {},
   "source": [
    "# Ants-Lesson 3: CSS Part 2  🦋"
   ]
  },
  {
   "cell_type": "markdown",
   "id": "2b0e8bdf-55d1-4558-8010-eec7190d2354",
   "metadata": {},
   "source": [
    "### Block vs Inline Elements\n",
    "\n",
    "**🔷 Block Elements:**\n",
    "\n",
    "Take up the full width available (from left to right).\n",
    "Start on a new line.\n",
    "Examples: `<div>, <p>, <h1>, <section>`\n",
    "\n",
    "**🔷 Inline Elements:**\n",
    "\n",
    "Take up only the space needed for their content.\n",
    "Do not start on a new line; they stay in the same line.\n",
    "Examples: `<span>, <a>, <strong>, <em>`\n"
   ]
  },
  {
   "cell_type": "markdown",
   "id": "5a6d03d9-c2ff-499a-9f91-ee54c96d1a02",
   "metadata": {},
   "source": [
    "### What is `<div>`?\n",
    "\n",
    "A block-level container used for grouping elements together.\n",
    "Helps in styling sections of a page.\n",
    "\n",
    "**Example:**"
   ]
  },
  {
   "cell_type": "code",
   "execution_count": null,
   "id": "36771b4a-4c8a-4fd5-b310-622902578d37",
   "metadata": {},
   "outputs": [],
   "source": [
    "%%html\n",
    "<div style=\"background-color: lightblue; padding: 10px;\">\n",
    "    This is a block element.\n",
    "</div>\n",
    "<div style=\"background-color: lightcoral; padding: 10px;\">\n",
    "    Another block element.\n",
    "</div>"
   ]
  },
  {
   "cell_type": "markdown",
   "id": "1f5fc65e-ed6b-4022-8721-cf903ced0e1e",
   "metadata": {},
   "source": [
    "📌 Each `<div>` appears on a new line because it's block-level.\n",
    "\n",
    "### What is `<span>`?\n",
    "\n",
    "An inline container used for styling small parts of text.\n",
    "Does not create a new line.\n",
    "\n",
    "**Example:**"
   ]
  },
  {
   "cell_type": "code",
   "execution_count": null,
   "id": "391cd50a-d269-47be-835e-5b9b70912af9",
   "metadata": {},
   "outputs": [],
   "source": [
    "%%html\n",
    "\n",
    "<p>This is a <span style=\"color: red;font-weight:bold;\">red</span> word inside a paragraph.</p>"
   ]
  },
  {
   "cell_type": "markdown",
   "id": "d384fb47-f970-4cb0-bf8c-348f24089e30",
   "metadata": {},
   "source": [
    "\n",
    "📌 The <span> only colors the word \"red\" without breaking the line.\n",
    "\n",
    "<strong style=\"color:#c920d5;\">Challenge 1</strong> Block vs Inline\n",
    "Your Task:\n",
    "\n",
    "- Create a `<div>` container with a background color and some padding.\n",
    "- Inside the `<div>`, add a paragraph (`<p>`) with a sentence.\n",
    "- Use a `<span>` to highlight a word inside the paragraph.\n",
    "\n",
    "💡 **Bonus:** Try adding a border around the `<span>`.\n",
    "\n",
    "<strong style=\"color:#07ab0f;\">Write your code in the next cell</strong>"
   ]
  },
  {
   "cell_type": "code",
   "execution_count": null,
   "id": "fb42cc0b-4e6d-4d81-826c-15da995ed9ed",
   "metadata": {},
   "outputs": [],
   "source": [
    "%%html\n",
    "<!DOCTYPE html>\n",
    "<html>\n",
    "    <head>\n",
    "        <style>\n",
    "        </style>\n",
    "    </head>\n",
    "    <body>\n",
    "\n",
    "    </body>\n",
    "</html>"
   ]
  },
  {
   "cell_type": "markdown",
   "id": "0b605f5b",
   "metadata": {},
   "source": [
    "\n",
    "## Positioning 🧭\n",
    "CSS positioning controls how elements are placed on a page.\n",
    "\n",
    "### Positioning Types\n",
    "1. **Static**: Default position (flow of the document).\n",
    "2. **Relative**: Adjusts the element relative to its normal position.\n",
    "3. **Absolute**: Positioned relative to the nearest positioned ancestor.\n",
    "4. **Fixed**: Stays in place, even when scrolling.\n",
    "5. **Sticky**: Toggles between relative and fixed based on scroll.\n",
    "\n",
    "\n",
    "### 🌏 Example: Positioning\n",
    "\n"
   ]
  },
  {
   "cell_type": "code",
   "execution_count": null,
   "id": "13a5301e-6011-446e-80aa-bf1b7476fa67",
   "metadata": {},
   "outputs": [],
   "source": [
    "%%html\n",
    "<!DOCTYPE html>\n",
    "<html>\n",
    "    <head>\n",
    "        <style>\n",
    "            .container{\n",
    "                position:relative;\n",
    "                background-color: lightblue;\n",
    "                height:50vh\n",
    "            }\n",
    "            .box {\n",
    "                width: 100px;\n",
    "                height: 100px;\n",
    "                background-color: lightgreen;\n",
    "                position: relative;\n",
    "                top: 50px;\n",
    "                left: 100px;\n",
    "            }\n",
    "            /* 🔶 Change the container height to 80 and set the box position to fixed and see the difference */\n",
    "        </style>\n",
    "    </head>\n",
    "    <body>\n",
    "        <div class=\"container\">\n",
    "            <div class=\"box\"></div>\n",
    "        </div>\n",
    "    \n",
    "    </body>\n",
    "</html>"
   ]
  },
  {
   "cell_type": "markdown",
   "id": "8b10a6d4",
   "metadata": {},
   "source": [
    "\n",
    "<strong style=\"color:#c920d5;\">Challenge 2</strong> Create a Positioned Box 📦\n",
    "\n",
    "- Create a `<div>` with a `class=\"box\"` inside the div.container.\n",
    "- Use CSS to position it:\n",
    "  - `width`: 200px\n",
    "  - `height`: 100px\n",
    "  - `background-color`: tomato\n",
    "  - `position`: relative\n",
    "  - Adjust `top` and `left` properties.\n",
    "\n",
    "**Bonus:** Try using `position: sticky` and see the big difference!\n",
    "\n",
    "<strong style=\"color:#07ab0f;\">Write your code in the next cell</strong>"
   ]
  },
  {
   "cell_type": "code",
   "execution_count": null,
   "id": "b8a5a56f-62d3-42cd-b07d-15e9b7d21460",
   "metadata": {},
   "outputs": [],
   "source": [
    "%%html\n",
    "<!DOCTYPE html>\n",
    "<html>\n",
    "    <head>\n",
    "        <style>\n",
    "            .container{\n",
    "                position:relative;\n",
    "                background-color: lightgreen;\n",
    "                height:60vh\n",
    "            }\n",
    "        </style>\n",
    "    </head>\n",
    "    <body>\n",
    "        <div class=\"container\">\n",
    "        </div>\n",
    "    </body>\n",
    "</html>"
   ]
  },
  {
   "cell_type": "markdown",
   "id": "3ca618a5",
   "metadata": {},
   "source": [
    "\n",
    "## Layouts 📐\n",
    "\n",
    "#### 1. **Flexbox**: For flexible, one-dimensional layouts (rows/columns).\n",
    "Key Flexbox Properties:\n",
    "* `display: flex;`      Enables flexbox layout.  \n",
    "* `flex-direction: row | column;`      Defines direction.  \n",
    "* `justify-content: start | center | space-between;`    Aligns items horizontally.  \n",
    "* `align-items: start | center | stretch;`     Aligns items vertically.\n",
    "* `gap: 10px;`       Adds spacing between items.\n",
    "\n",
    "### 🌏 Example: Flexbox\n"
   ]
  },
  {
   "cell_type": "code",
   "execution_count": null,
   "id": "d2db1d0d-0739-4b2b-8b92-4295607ada4b",
   "metadata": {},
   "outputs": [],
   "source": [
    "%%html\n",
    "<!DOCTYPE html>\n",
    "<html>\n",
    "<head>\n",
    "    <style>\n",
    "        .container {\n",
    "            height: 30vh;\n",
    "            background-color: lightyellow;\n",
    "            display: flex;\n",
    "            justify-content: space-between;\n",
    "        }\n",
    "        /* 🔶 Try to change the justify-content value and use the align-items to see the difference 😉*/\n",
    "        .box {\n",
    "            width: 100px;\n",
    "            height: 100px;\n",
    "            background-color: lightgreen;\n",
    "            border-radius:50%;\n",
    "        }\n",
    "    </style>\n",
    "</head>\n",
    "<body>\n",
    "    <div class=\"container\">\n",
    "        <div class=\"box\"></div>\n",
    "        <div class=\"box\"></div>\n",
    "        <div class=\"box\"></div>\n",
    "    </div>\n",
    "</body>\n",
    "</html>"
   ]
  },
  {
   "cell_type": "markdown",
   "id": "f1e0ccc9-994f-4d02-814d-3e5b754bf3a5",
   "metadata": {},
   "source": [
    "\n",
    "<strong style=\"color:#c920d5;\">Challenge 3</strong> Flex and Frogs 🐸\n",
    "\n",
    "Visit the following game **[flexboxfroggy](https://flexboxfroggy.com/)** link and reach level 10 with the power of flex.\n",
    "\n",
    "----\n",
    "\n",
    "#### 2. **CSS Grid**: For two-dimensional layouts.\n",
    "\n",
    "\n",
    "### 🌏 Example: Grid\n"
   ]
  },
  {
   "cell_type": "code",
   "execution_count": null,
   "id": "31b64388-b178-4e99-86c8-639ed77597cc",
   "metadata": {},
   "outputs": [],
   "source": [
    "%%html\n",
    "<!DOCTYPE html>\n",
    "<html>\n",
    "<head>\n",
    "    <style>\n",
    "        .grid {\n",
    "            display: grid;\n",
    "            grid-template-columns: repeat(3, 1fr);\n",
    "            grid-template-rows: repeat(3, 1fr);\n",
    "            gap: 10px;\n",
    "        }\n",
    "        /* 🔶 Change the 3 to 5 and tell me what happened 🧐*/ \n",
    "        .item {\n",
    "            background-color: lightcoral;\n",
    "            height: 100px;\n",
    "        }\n",
    "    </style>\n",
    "</head>\n",
    "<body>\n",
    "    <div class=\"grid\">\n",
    "        <div class=\"item\"></div>\n",
    "        <div class=\"item\"></div>\n",
    "        <div class=\"item\"></div>\n",
    "        <div class=\"item\"></div>\n",
    "        <div class=\"item\"></div>\n",
    "        <div class=\"item\"></div>\n",
    "    </div>\n",
    "</body>\n",
    "</html>"
   ]
  },
  {
   "cell_type": "markdown",
   "id": "62139585",
   "metadata": {},
   "source": [
    "\n",
    "<strong style=\"color:#c920d5;\">Challenge 4</strong> Grid Gardener 👩🏻‍🌾\n",
    "\n",
    "Visit the following game **[cssgridgarden](https://cssgridgarden.com/)** link and reach level 10 with the power of Grids."
   ]
  },
  {
   "cell_type": "markdown",
   "id": "6f1aff8d-97d2-4ae0-8f20-ff30a914e40b",
   "metadata": {},
   "source": [
    "----\n",
    "\n",
    "## Homework \n",
    "\n",
    "**Use what we learned so far to make a website that looks like the following:**\n",
    "\n",
    "![homework_Photo](./images/screenshot.png)"
   ]
  },
  {
   "cell_type": "code",
   "execution_count": null,
   "id": "5683f031-cf28-4a89-94d7-72b713767927",
   "metadata": {},
   "outputs": [],
   "source": []
  }
 ],
 "metadata": {
  "kernelspec": {
   "display_name": "Python 3 (ipykernel)",
   "language": "python",
   "name": "python3"
  },
  "language_info": {
   "codemirror_mode": {
    "name": "ipython",
    "version": 3
   },
   "file_extension": ".py",
   "mimetype": "text/x-python",
   "name": "python",
   "nbconvert_exporter": "python",
   "pygments_lexer": "ipython3",
   "version": "3.12.4"
  }
 },
 "nbformat": 4,
 "nbformat_minor": 5
}
