{
 "cells": [
  {
   "cell_type": "markdown",
   "id": "b59b668c",
   "metadata": {},
   "source": [
    "# Ants-Lesson 2: CSS Part 2  🦋"
   ]
  },
  {
   "cell_type": "markdown",
   "id": "0b605f5b",
   "metadata": {},
   "source": [
    "\n",
    "## Positioning 🧭\n",
    "CSS positioning controls how elements are placed on a page.\n",
    "\n",
    "### Positioning Types\n",
    "1. **Static**: Default position (flow of the document).\n",
    "2. **Relative**: Adjusts the element relative to its normal position.\n",
    "3. **Absolute**: Positioned relative to the nearest positioned ancestor.\n",
    "4. **Fixed**: Stays in place, even when scrolling.\n",
    "5. **Sticky**: Toggles between relative and fixed based on scroll.\n",
    "\n",
    "\n",
    "### 🌏 Example: Positioning\n",
    "\n"
   ]
  },
  {
   "cell_type": "code",
   "execution_count": null,
   "id": "13a5301e-6011-446e-80aa-bf1b7476fa67",
   "metadata": {},
   "outputs": [],
   "source": [
    "%%html\n",
    "<!DOCTYPE html>\n",
    "<html>\n",
    "    <head>\n",
    "        <style>\n",
    "            .container{\n",
    "                position:relative;\n",
    "                background-color: lightblue;\n",
    "                height:50vh\n",
    "            }\n",
    "            .box {\n",
    "                width: 100px;\n",
    "                height: 100px;\n",
    "                background-color: lightgreen;\n",
    "                position: relative;\n",
    "                top: 50px;\n",
    "                left: 100px;\n",
    "            }\n",
    "            /* 🔶 Change the container height to 80 and set the box position to fixed and see the difference */\n",
    "        </style>\n",
    "    </head>\n",
    "    <body>\n",
    "        <div class=\"container\">\n",
    "            <div class=\"box\"></div>\n",
    "        </div>\n",
    "    \n",
    "    </body>\n",
    "</html>"
   ]
  },
  {
   "cell_type": "markdown",
   "id": "8b10a6d4",
   "metadata": {},
   "source": [
    "\n",
    "<strong style=\"color:#c920d5;\">Challenge 5</strong> Create a Positioned Box 📦\n",
    "\n",
    "- Create a `<div>` with a `class=\"box\"` inside the div.container.\n",
    "- Use CSS to position it:\n",
    "  - `width`: 200px\n",
    "  - `height`: 100px\n",
    "  - `background-color`: tomato\n",
    "  - `position`: relative\n",
    "  - Adjust `top` and `left` properties.\n",
    "\n",
    "**Bonus:** Try using `position: sticky` and see the big difference!\n",
    "\n",
    "<strong style=\"color:#07ab0f;\">Write your code in the next cell</strong>"
   ]
  },
  {
   "cell_type": "code",
   "execution_count": null,
   "id": "b8a5a56f-62d3-42cd-b07d-15e9b7d21460",
   "metadata": {},
   "outputs": [],
   "source": [
    "%%html\n",
    "<!DOCTYPE html>\n",
    "<html>\n",
    "    <head>\n",
    "        <style>\n",
    "            .container{\n",
    "                position:relative;\n",
    "                background-color: lightgreen;\n",
    "                height:60vh\n",
    "            }\n",
    "        </style>\n",
    "    </head>\n",
    "    <body>\n",
    "        <div class=\"container\">\n",
    "        </div>\n",
    "    </body>\n",
    "</html>"
   ]
  },
  {
   "cell_type": "markdown",
   "id": "3ca618a5",
   "metadata": {},
   "source": [
    "\n",
    "## Layouts 📐\n",
    "\n",
    "#### 1. **Flexbox**: For flexible, one-dimensional layouts (rows/columns).\n",
    "Key Flexbox Properties:\n",
    "* `display: flex;`      Enables flexbox layout.  \n",
    "* `flex-direction: row | column;`      Defines direction.  \n",
    "* `justify-content: start | center | space-between;`    Aligns items horizontally.  \n",
    "* `align-items: start | center | stretch;`     Aligns items vertically.\n",
    "* `gap: 10px;`       Adds spacing between items.\n",
    "\n",
    "### 🌏 Example: Flexbox\n"
   ]
  },
  {
   "cell_type": "code",
   "execution_count": null,
   "id": "d2db1d0d-0739-4b2b-8b92-4295607ada4b",
   "metadata": {},
   "outputs": [],
   "source": [
    "%%html\n",
    "<!DOCTYPE html>\n",
    "<html>\n",
    "<head>\n",
    "    <style>\n",
    "        .container {\n",
    "            height: 30vh;\n",
    "            background-color: lightyellow;\n",
    "            display: flex;\n",
    "            justify-content: space-between;\n",
    "        }\n",
    "        /* 🔶 Try to change the justify-content value and use the align-items to see the difference 😉*/\n",
    "        .box {\n",
    "            width: 100px;\n",
    "            height: 100px;\n",
    "            background-color: lightgreen;\n",
    "            border-radius:50%;\n",
    "        }\n",
    "    </style>\n",
    "</head>\n",
    "<body>\n",
    "    <div class=\"container\">\n",
    "        <div class=\"box\"></div>\n",
    "        <div class=\"box\"></div>\n",
    "        <div class=\"box\"></div>\n",
    "    </div>\n",
    "</body>\n",
    "</html>"
   ]
  },
  {
   "cell_type": "markdown",
   "id": "f1e0ccc9-994f-4d02-814d-3e5b754bf3a5",
   "metadata": {},
   "source": [
    "#### 2. **CSS Grid**: For two-dimensional layouts.\n",
    "\n",
    "\n",
    "### 🌏 Example: Grid\n"
   ]
  },
  {
   "cell_type": "code",
   "execution_count": null,
   "id": "31b64388-b178-4e99-86c8-639ed77597cc",
   "metadata": {},
   "outputs": [],
   "source": [
    "%%html\n",
    "<!DOCTYPE html>\n",
    "<html>\n",
    "<head>\n",
    "    <style>\n",
    "        .grid {\n",
    "            display: grid;\n",
    "            grid-template-columns: repeat(3, 1fr);\n",
    "            grid-template-rows: repeat(3, 1fr);\n",
    "            gap: 10px;\n",
    "        }\n",
    "        /* 🔶 Change the 3 to 5 and tell me what happened 🧐*/ \n",
    "        .item {\n",
    "            background-color: lightcoral;\n",
    "            height: 100px;\n",
    "        }\n",
    "    </style>\n",
    "</head>\n",
    "<body>\n",
    "    <div class=\"grid\">\n",
    "        <div class=\"item\"></div>\n",
    "        <div class=\"item\"></div>\n",
    "        <div class=\"item\"></div>\n",
    "        <div class=\"item\"></div>\n",
    "        <div class=\"item\"></div>\n",
    "        <div class=\"item\"></div>\n",
    "    </div>\n",
    "</body>\n",
    "</html>"
   ]
  },
  {
   "cell_type": "markdown",
   "id": "62139585",
   "metadata": {},
   "source": [
    "\n",
    "<strong style=\"color:#c920d5;\">Challenge 5</strong> Build a Layout 🎨\n",
    "\n",
    "1. Create a flexbox layout with three boxes aligned in a row.\n",
    "2. Create a grid layout with three rows and two columns.\n",
    "\n",
    "**Bonus:** Add spacing (`gap`) and experiment with `justify-content`!\n",
    "\n",
    "<strong style=\"color:#07ab0f;\">Write your code in the next cell</strong>"
   ]
  },
  {
   "cell_type": "code",
   "execution_count": null,
   "id": "836dd6a9-7362-4b50-9edb-e23081fe4a75",
   "metadata": {},
   "outputs": [],
   "source": [
    "%%html\n",
    "<!DOCTYPE html>\n",
    "<html>\n",
    "    <head>\n",
    "        <style>\n",
    "        \n",
    "        </style>\n",
    "    </head>\n",
    "    <body></body>\n",
    "</html>"
   ]
  },
  {
   "cell_type": "markdown",
   "id": "6f1aff8d-97d2-4ae0-8f20-ff30a914e40b",
   "metadata": {},
   "source": [
    "----\n",
    "\n",
    "## Homework \n",
    "\n",
    "**Use what we learned today to style the website you made in the first session's homework.**"
   ]
  },
  {
   "cell_type": "code",
   "execution_count": null,
   "id": "0b27cd6a-792f-45dc-9957-022f4c45cdf6",
   "metadata": {},
   "outputs": [],
   "source": []
  }
 ],
 "metadata": {
  "kernelspec": {
   "display_name": "Python 3 (ipykernel)",
   "language": "python",
   "name": "python3"
  },
  "language_info": {
   "codemirror_mode": {
    "name": "ipython",
    "version": 3
   },
   "file_extension": ".py",
   "mimetype": "text/x-python",
   "name": "python",
   "nbconvert_exporter": "python",
   "pygments_lexer": "ipython3",
   "version": "3.12.4"
  }
 },
 "nbformat": 4,
 "nbformat_minor": 5
}
